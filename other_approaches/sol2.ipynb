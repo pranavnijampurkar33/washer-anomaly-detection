{
 "cells": [
  {
   "cell_type": "markdown",
   "id": "42df179c-87b4-4800-b85c-c38c08d1a7ee",
   "metadata": {},
   "source": [
    "# https://youtu.be/vF21cC-8G1U\n",
    "# https://youtu.be/Joh3LOaG8Q0\n",
    "\n",
    "\"\"\"\n",
    "Dataset from: https://lhncbc.nlm.nih.gov/publication/pub9932\n",
    "Binary problem:\n",
    "Question is: Is the image uninfected? If yes, probability is close to 1.\n",
    "If no, the probablility is close to 0.\n",
    "This is because we added label 1 to uninfected images. \n",
    "In summary, probability result close to 1 reflects uninfected image\n",
    "and close to 0 reflects parasitized image\n",
    "\"\"\""
   ]
  },
  {
   "cell_type": "code",
   "execution_count": 2,
   "id": "91f9b0ea-3db7-4411-bb47-59174d68c3f3",
   "metadata": {},
   "outputs": [
    {
     "name": "stdout",
     "output_type": "stream",
     "text": [
      "INFO:tensorflow:Enabling eager execution\n",
      "INFO:tensorflow:Enabling v2 tensorshape\n",
      "INFO:tensorflow:Enabling resource variables\n",
      "INFO:tensorflow:Enabling tensor equality\n",
      "INFO:tensorflow:Enabling control flow v2\n"
     ]
    }
   ],
   "source": [
    "##########################################################\n",
    "import matplotlib.pyplot as plt\n",
    "import matplotlib.image as mpimg\n",
    "\n",
    "plt.style.use('classic')\n",
    "#############################################################\n",
    "from keras.preprocessing.image import ImageDataGenerator\n",
    "from keras.models import Sequential\n",
    "from keras.layers import Conv2D, MaxPooling2D, BatchNormalization\n",
    "from keras.layers import Activation, Dropout, Flatten, Dense\n",
    "#from keras import backend as K\n",
    "####################################################\n",
    "import os\n",
    "import cv2\n",
    "from PIL import Image\n",
    "import numpy as np\n",
    "import tensorflow as tf"
   ]
  },
  {
   "cell_type": "code",
   "execution_count": 3,
   "id": "65cb0cd1-7ab4-43b1-9a07-0abdddfedaa1",
   "metadata": {},
   "outputs": [
    {
     "name": "stdout",
     "output_type": "stream",
     "text": [
      "[name: \"/device:CPU:0\"\n",
      "device_type: \"CPU\"\n",
      "memory_limit: 268435456\n",
      "locality {\n",
      "}\n",
      "incarnation: 1498385982512822483\n",
      "]\n"
     ]
    },
    {
     "data": {
      "text/plain": [
       "[]"
      ]
     },
     "execution_count": 3,
     "metadata": {},
     "output_type": "execute_result"
    }
   ],
   "source": [
    "from tensorflow.python.client import device_lib\n",
    "print(device_lib.list_local_devices())\n",
    "tf.config.list_physical_devices('GPU')"
   ]
  },
  {
   "cell_type": "code",
   "execution_count": 4,
   "id": "6eedd2ae-25c1-4d0d-8389-c84001afc38d",
   "metadata": {},
   "outputs": [],
   "source": [
    "image_directory = \"/home/pratham/study/input_data/washer/da_opencv/\"\n",
    "SIZE = 150\n",
    "dataset = []  #Many ways to handle data, you can use pandas. Here, we are using a list format.  \n",
    "label = []  #Place holders to define add labels. We will add 0 to all parasitized images and 1 to uninfected.\n",
    "\n",
    "parasitized_images = os.listdir(image_directory + 'neg/')\n",
    "for i, image_name in enumerate(parasitized_images):    #Remember enumerate method adds a counter and returns the enumerate object\n",
    "    \n",
    "    if (image_name.split('.')[1] == 'jpg'):\n",
    "        image = cv2.imread(image_directory + 'neg/' + image_name)\n",
    "        image = Image.fromarray(image, 'RGB')\n",
    "        image = image.resize((SIZE, SIZE))\n",
    "        dataset.append(np.array(image))\n",
    "        label.append(0)"
   ]
  },
  {
   "cell_type": "code",
   "execution_count": 5,
   "id": "dd4d2514-d495-4e64-897c-db6cff5ae1a0",
   "metadata": {},
   "outputs": [],
   "source": [
    "#Iterate through all images in Uninfected folder, resize to 150 x 150\n",
    "#Then save into the same numpy array 'dataset' but with label 1\n",
    "\n",
    "uninfected_images = os.listdir(image_directory + 'pos/')\n",
    "for i, image_name in enumerate(uninfected_images):\n",
    "    if (image_name.split('.')[1] == 'jpg'):\n",
    "        image = cv2.imread(image_directory + 'pos/' + image_name)\n",
    "        image = Image.fromarray(image, 'RGB')\n",
    "        image = image.resize((SIZE, SIZE))\n",
    "        dataset.append(np.array(image))\n",
    "        label.append(1)"
   ]
  },
  {
   "cell_type": "code",
   "execution_count": 6,
   "id": "f51679aa-6799-4835-b27a-e4e1d76c1108",
   "metadata": {},
   "outputs": [],
   "source": [
    "dataset = np.array(dataset)\n",
    "label = np.array(label)"
   ]
  },
  {
   "cell_type": "code",
   "execution_count": 7,
   "id": "80201c86-b563-4600-983e-b71faba19ad4",
   "metadata": {},
   "outputs": [
    {
     "data": {
      "text/plain": [
       "(305, 150, 150, 3)"
      ]
     },
     "execution_count": 7,
     "metadata": {},
     "output_type": "execute_result"
    }
   ],
   "source": [
    "dataset.shape"
   ]
  },
  {
   "cell_type": "code",
   "execution_count": 8,
   "id": "0d0fb18e-8f97-4215-b20e-3479d6cfe3ee",
   "metadata": {},
   "outputs": [],
   "source": [
    "from sklearn.model_selection import train_test_split\n",
    "X_train, X_test, y_train, y_test = train_test_split(dataset, label, test_size = 0.20, random_state = 0)"
   ]
  },
  {
   "cell_type": "code",
   "execution_count": 8,
   "id": "7effbd25-80f2-409b-86fa-4c6df7d11165",
   "metadata": {},
   "outputs": [],
   "source": [
    "#Without scaling (normalize) the training may not converge. \n",
    "#Normalization is a rescaling of the data from the original range \n",
    "#so that all values are within the range of 0 and 1.\n",
    "from tensorflow.keras.utils import normalize\n",
    "X_train = normalize(X_train, axis=1)\n",
    "X_test = normalize(X_test, axis=1)"
   ]
  },
  {
   "cell_type": "code",
   "execution_count": 12,
   "id": "1f90183d-fe5a-4deb-93f7-55482742ea80",
   "metadata": {},
   "outputs": [
    {
     "name": "stdout",
     "output_type": "stream",
     "text": [
      "Model: \"sequential_1\"\n",
      "_________________________________________________________________\n",
      "Layer (type)                 Output Shape              Param #   \n",
      "=================================================================\n",
      "conv2d_3 (Conv2D)            (None, 148, 148, 32)      896       \n",
      "_________________________________________________________________\n",
      "activation_5 (Activation)    (None, 148, 148, 32)      0         \n",
      "_________________________________________________________________\n",
      "max_pooling2d_3 (MaxPooling2 (None, 74, 74, 32)        0         \n",
      "_________________________________________________________________\n",
      "conv2d_4 (Conv2D)            (None, 72, 72, 32)        9248      \n",
      "_________________________________________________________________\n",
      "activation_6 (Activation)    (None, 72, 72, 32)        0         \n",
      "_________________________________________________________________\n",
      "max_pooling2d_4 (MaxPooling2 (None, 36, 36, 32)        0         \n",
      "_________________________________________________________________\n",
      "conv2d_5 (Conv2D)            (None, 34, 34, 64)        18496     \n",
      "_________________________________________________________________\n",
      "activation_7 (Activation)    (None, 34, 34, 64)        0         \n",
      "_________________________________________________________________\n",
      "max_pooling2d_5 (MaxPooling2 (None, 17, 17, 64)        0         \n",
      "_________________________________________________________________\n",
      "flatten_1 (Flatten)          (None, 18496)             0         \n",
      "_________________________________________________________________\n",
      "dense_2 (Dense)              (None, 64)                1183808   \n",
      "_________________________________________________________________\n",
      "activation_8 (Activation)    (None, 64)                0         \n",
      "_________________________________________________________________\n",
      "dropout_1 (Dropout)          (None, 64)                0         \n",
      "_________________________________________________________________\n",
      "dense_3 (Dense)              (None, 1)                 65        \n",
      "_________________________________________________________________\n",
      "activation_9 (Activation)    (None, 1)                 0         \n",
      "=================================================================\n",
      "Total params: 1,212,513\n",
      "Trainable params: 1,212,513\n",
      "Non-trainable params: 0\n",
      "_________________________________________________________________\n",
      "None\n"
     ]
    }
   ],
   "source": [
    "###2 conv and pool layers. with some normalization and drops in between.\n",
    "\n",
    "INPUT_SHAPE = (SIZE, SIZE, 3)   #change to (SIZE, SIZE, 3)\n",
    "\n",
    "\n",
    "model = Sequential()\n",
    "model.add(Conv2D(32, (3, 3), input_shape=INPUT_SHAPE))\n",
    "model.add(Activation('relu'))\n",
    "model.add(MaxPooling2D(pool_size=(2, 2)))\n",
    "\n",
    "model.add(Conv2D(32, (3, 3), kernel_initializer = 'he_uniform'))\n",
    "model.add(Activation('relu'))\n",
    "model.add(MaxPooling2D(pool_size=(2, 2)))\n",
    "\n",
    "model.add(Conv2D(64, (3, 3), kernel_initializer = 'he_uniform'))\n",
    "model.add(Activation('relu'))\n",
    "model.add(MaxPooling2D(pool_size=(2, 2)))\n",
    "\n",
    "model.add(Flatten())\n",
    "model.add(Dense(64))\n",
    "model.add(Activation('relu'))\n",
    "model.add(Dropout(0.5))\n",
    "\n",
    "model.add(Dense(1))\n",
    "model.add(Activation('sigmoid'))  \n",
    "#Do not use softmax for binary classification\n",
    "#Softmax is useful for mutually exclusive classes, either cat or dog but not both.\n",
    "#Also, softmax outputs all add to 1. So good for multi class problems where each\n",
    "#class is given a probability and all add to 1. Highest one wins. \n",
    "\n",
    "#Sigmoid outputs probability. Can be used for non-mutually exclusive problems.\n",
    "#But, also good for binary mutually exclusive (cat or not cat). \n",
    "\n",
    "model.compile(loss='binary_crossentropy',\n",
    "              optimizer='rmsprop',             #also try adam\n",
    "              metrics=['accuracy'])\n",
    "\n",
    "print(model.summary())    \n",
    "###############################################################  "
   ]
  },
  {
   "cell_type": "code",
   "execution_count": 13,
   "id": "1d4d3680-11b7-456f-a4d7-f7065d282616",
   "metadata": {},
   "outputs": [
    {
     "name": "stdout",
     "output_type": "stream",
     "text": [
      "Epoch 1/50\n",
      "16/16 [==============================] - 2s 49ms/step - loss: 0.7105 - accuracy: 0.5013 - val_loss: 0.6953 - val_accuracy: 0.4590\n",
      "Epoch 2/50\n",
      "16/16 [==============================] - 0s 9ms/step - loss: 0.6925 - accuracy: 0.4835 - val_loss: 0.6906 - val_accuracy: 0.4918\n",
      "Epoch 3/50\n",
      "16/16 [==============================] - 0s 9ms/step - loss: 0.6904 - accuracy: 0.5280 - val_loss: 0.6884 - val_accuracy: 0.4590\n",
      "Epoch 4/50\n",
      "16/16 [==============================] - 0s 9ms/step - loss: 0.6822 - accuracy: 0.5630 - val_loss: 0.6608 - val_accuracy: 0.5738\n",
      "Epoch 5/50\n",
      "16/16 [==============================] - 0s 9ms/step - loss: 0.6809 - accuracy: 0.5833 - val_loss: 0.6530 - val_accuracy: 0.6066\n",
      "Epoch 6/50\n",
      "16/16 [==============================] - 0s 9ms/step - loss: 0.6762 - accuracy: 0.6162 - val_loss: 0.6401 - val_accuracy: 0.6066\n",
      "Epoch 7/50\n",
      "16/16 [==============================] - 0s 9ms/step - loss: 0.6436 - accuracy: 0.6162 - val_loss: 0.6347 - val_accuracy: 0.5902\n",
      "Epoch 8/50\n",
      "16/16 [==============================] - 0s 9ms/step - loss: 0.6413 - accuracy: 0.6770 - val_loss: 0.6026 - val_accuracy: 0.6721\n",
      "Epoch 9/50\n",
      "16/16 [==============================] - 0s 9ms/step - loss: 0.6457 - accuracy: 0.6551 - val_loss: 0.6240 - val_accuracy: 0.6230\n",
      "Epoch 10/50\n",
      "16/16 [==============================] - 0s 9ms/step - loss: 0.6317 - accuracy: 0.6220 - val_loss: 0.5392 - val_accuracy: 0.7541\n",
      "Epoch 11/50\n",
      "16/16 [==============================] - 0s 9ms/step - loss: 0.6143 - accuracy: 0.6383 - val_loss: 0.5385 - val_accuracy: 0.7541\n",
      "Epoch 12/50\n",
      "16/16 [==============================] - 0s 9ms/step - loss: 0.5956 - accuracy: 0.6429 - val_loss: 0.5260 - val_accuracy: 0.7541\n",
      "Epoch 13/50\n",
      "16/16 [==============================] - 0s 9ms/step - loss: 0.5900 - accuracy: 0.6686 - val_loss: 0.5140 - val_accuracy: 0.7541\n",
      "Epoch 14/50\n",
      "16/16 [==============================] - 0s 10ms/step - loss: 0.5605 - accuracy: 0.7337 - val_loss: 0.5329 - val_accuracy: 0.6885\n",
      "Epoch 15/50\n",
      "16/16 [==============================] - 0s 9ms/step - loss: 0.5601 - accuracy: 0.6925 - val_loss: 0.5116 - val_accuracy: 0.7377\n",
      "Epoch 16/50\n",
      "16/16 [==============================] - 0s 9ms/step - loss: 0.5586 - accuracy: 0.6994 - val_loss: 0.5462 - val_accuracy: 0.7049\n",
      "Epoch 17/50\n",
      "16/16 [==============================] - 0s 9ms/step - loss: 0.5476 - accuracy: 0.7110 - val_loss: 0.4815 - val_accuracy: 0.7541\n",
      "Epoch 18/50\n",
      "16/16 [==============================] - 0s 9ms/step - loss: 0.5450 - accuracy: 0.7085 - val_loss: 0.4608 - val_accuracy: 0.7705\n",
      "Epoch 19/50\n",
      "16/16 [==============================] - 0s 9ms/step - loss: 0.5500 - accuracy: 0.7194 - val_loss: 0.4948 - val_accuracy: 0.6885\n",
      "Epoch 20/50\n",
      "16/16 [==============================] - 0s 9ms/step - loss: 0.5282 - accuracy: 0.7318 - val_loss: 0.4619 - val_accuracy: 0.7541\n",
      "Epoch 21/50\n",
      "16/16 [==============================] - 0s 9ms/step - loss: 0.4558 - accuracy: 0.7726 - val_loss: 0.5744 - val_accuracy: 0.7213\n",
      "Epoch 22/50\n",
      "16/16 [==============================] - 0s 9ms/step - loss: 0.4872 - accuracy: 0.7777 - val_loss: 0.4762 - val_accuracy: 0.7213\n",
      "Epoch 23/50\n",
      "16/16 [==============================] - 0s 9ms/step - loss: 0.4806 - accuracy: 0.7621 - val_loss: 0.4680 - val_accuracy: 0.7213\n",
      "Epoch 24/50\n",
      "16/16 [==============================] - 0s 9ms/step - loss: 0.4294 - accuracy: 0.7662 - val_loss: 0.4886 - val_accuracy: 0.7213\n",
      "Epoch 25/50\n",
      "16/16 [==============================] - 0s 9ms/step - loss: 0.4195 - accuracy: 0.7794 - val_loss: 0.6807 - val_accuracy: 0.7213\n",
      "Epoch 26/50\n",
      "16/16 [==============================] - 0s 9ms/step - loss: 0.4533 - accuracy: 0.7850 - val_loss: 0.4398 - val_accuracy: 0.8033\n",
      "Epoch 27/50\n",
      "16/16 [==============================] - 0s 9ms/step - loss: 0.3744 - accuracy: 0.8022 - val_loss: 0.4291 - val_accuracy: 0.8197\n",
      "Epoch 28/50\n",
      "16/16 [==============================] - 0s 9ms/step - loss: 0.3432 - accuracy: 0.8519 - val_loss: 0.4338 - val_accuracy: 0.7869\n",
      "Epoch 29/50\n",
      "16/16 [==============================] - 0s 10ms/step - loss: 0.3811 - accuracy: 0.8015 - val_loss: 0.4244 - val_accuracy: 0.8197\n",
      "Epoch 30/50\n",
      "16/16 [==============================] - 0s 9ms/step - loss: 0.2877 - accuracy: 0.8890 - val_loss: 0.4429 - val_accuracy: 0.7705\n",
      "Epoch 31/50\n",
      "16/16 [==============================] - 0s 9ms/step - loss: 0.3991 - accuracy: 0.7841 - val_loss: 0.4482 - val_accuracy: 0.8197\n",
      "Epoch 32/50\n",
      "16/16 [==============================] - 0s 9ms/step - loss: 0.2908 - accuracy: 0.8823 - val_loss: 0.4358 - val_accuracy: 0.8033\n",
      "Epoch 33/50\n",
      "16/16 [==============================] - 0s 9ms/step - loss: 0.3442 - accuracy: 0.8048 - val_loss: 0.3872 - val_accuracy: 0.8525\n",
      "Epoch 34/50\n",
      "16/16 [==============================] - 0s 9ms/step - loss: 0.3004 - accuracy: 0.8654 - val_loss: 0.4493 - val_accuracy: 0.8033\n",
      "Epoch 35/50\n",
      "16/16 [==============================] - 0s 9ms/step - loss: 0.2940 - accuracy: 0.8555 - val_loss: 0.4267 - val_accuracy: 0.8033\n",
      "Epoch 36/50\n",
      "16/16 [==============================] - 0s 9ms/step - loss: 0.2157 - accuracy: 0.8883 - val_loss: 0.4666 - val_accuracy: 0.8033\n",
      "Epoch 37/50\n",
      "16/16 [==============================] - 0s 9ms/step - loss: 0.1994 - accuracy: 0.9113 - val_loss: 0.4441 - val_accuracy: 0.8033\n",
      "Epoch 38/50\n",
      "16/16 [==============================] - 0s 9ms/step - loss: 0.2925 - accuracy: 0.8590 - val_loss: 0.4934 - val_accuracy: 0.7541\n",
      "Epoch 39/50\n",
      "16/16 [==============================] - 0s 9ms/step - loss: 0.2809 - accuracy: 0.8741 - val_loss: 0.4230 - val_accuracy: 0.8197\n",
      "Epoch 40/50\n",
      "16/16 [==============================] - 0s 9ms/step - loss: 0.2352 - accuracy: 0.8994 - val_loss: 0.4201 - val_accuracy: 0.8525\n",
      "Epoch 41/50\n",
      "16/16 [==============================] - 0s 9ms/step - loss: 0.1766 - accuracy: 0.9377 - val_loss: 0.4747 - val_accuracy: 0.8689\n",
      "Epoch 42/50\n",
      "16/16 [==============================] - 0s 9ms/step - loss: 0.1879 - accuracy: 0.9292 - val_loss: 0.4977 - val_accuracy: 0.7869\n",
      "Epoch 43/50\n",
      "16/16 [==============================] - 0s 10ms/step - loss: 0.2025 - accuracy: 0.9374 - val_loss: 0.4429 - val_accuracy: 0.8525\n",
      "Epoch 44/50\n",
      "16/16 [==============================] - 0s 9ms/step - loss: 0.1435 - accuracy: 0.9629 - val_loss: 0.4860 - val_accuracy: 0.8361\n",
      "Epoch 45/50\n",
      "16/16 [==============================] - 0s 9ms/step - loss: 0.1850 - accuracy: 0.9042 - val_loss: 0.4927 - val_accuracy: 0.8525\n",
      "Epoch 46/50\n",
      "16/16 [==============================] - 0s 9ms/step - loss: 0.1512 - accuracy: 0.9490 - val_loss: 0.5803 - val_accuracy: 0.7541\n",
      "Epoch 47/50\n",
      "16/16 [==============================] - 0s 9ms/step - loss: 0.3056 - accuracy: 0.8360 - val_loss: 0.6423 - val_accuracy: 0.7705\n",
      "Epoch 48/50\n",
      "16/16 [==============================] - 0s 9ms/step - loss: 0.1262 - accuracy: 0.9759 - val_loss: 0.5011 - val_accuracy: 0.8197\n",
      "Epoch 49/50\n",
      "16/16 [==============================] - 0s 9ms/step - loss: 0.1410 - accuracy: 0.9521 - val_loss: 0.5065 - val_accuracy: 0.8197\n",
      "Epoch 50/50\n",
      "16/16 [==============================] - 0s 9ms/step - loss: 0.0764 - accuracy: 0.9868 - val_loss: 0.4695 - val_accuracy: 0.8852\n"
     ]
    }
   ],
   "source": [
    "history = model.fit(X_train, \n",
    "                         y_train, \n",
    "                         batch_size = 16, \n",
    "                         verbose = 1, \n",
    "                         epochs = 50,      \n",
    "                         validation_data=(X_test,y_test),\n",
    "                         shuffle = False\n",
    "                     )"
   ]
  },
  {
   "cell_type": "code",
   "execution_count": 14,
   "id": "ed28b4ff-1188-4190-a905-3d036299af10",
   "metadata": {},
   "outputs": [],
   "source": [
    "def Alexnet():\n",
    "    INPUT_SHAPE = (SIZE, SIZE, 3)   #change to (SIZE, SIZE, 3)\n",
    "    # Initialize the model\n",
    "    model = Sequential()\n",
    "\n",
    "    # layer 1: convolutional layer + max-pooling layer\n",
    "    model.add(Conv2D(filters = 96, kernel_size = (11,11), strides= 4, padding = 'valid', activation='relu', input_shape = INPUT_SHAPE))\n",
    "    model.add(MaxPooling2D(pool_size = (3,3), strides = 2))\n",
    "\n",
    "    # layer 2: convolutional layer + max-pooling layer \n",
    "    model.add(Conv2D(filters = 256, kernel_size = (5,5), padding = 'same', activation = 'relu'))\n",
    "    model.add(MaxPooling2D(pool_size = (3,3), strides = 2))\n",
    "\n",
    "    # layers 3-5: three convolutional layers + 1 max-pooling layer\n",
    "    model.add(Conv2D(filters = 384, kernel_size = (3,3), padding = 'same', activation = 'relu'))\n",
    "    model.add(Conv2D(filters = 384, kernel_size = (3,3), padding = 'same', activation = 'relu'))\n",
    "    model.add(Conv2D(filters = 256, kernel_size = (3,3), padding = 'same', activation = 'relu'))\n",
    "    model.add(MaxPooling2D(pool_size = (3,3), strides = 2))\n",
    "\n",
    "    # layers 6 - 8: two fully connected hidden layers and one fully connected output layer\n",
    "    model.add(Flatten())\n",
    "    model.add(Dense(4096, activation = 'relu'))\n",
    "    model.add(Dropout(0.5))\n",
    "    model.add(Dense(4096, activation = 'relu'))\n",
    "    model.add(Dropout(0.5))\n",
    "    model.add(Dense(1, activation = 'sigmoid'))\n",
    "\n",
    "    # compile the model with a loss funciton, a metric and and optimizer method for estimating the loss function\n",
    "    \n",
    "    model.compile(loss='binary_crossentropy',\n",
    "              optimizer='rmsprop',             #also try adam\n",
    "              metrics=['accuracy'])\n",
    "\n",
    "    return model"
   ]
  },
  {
   "cell_type": "code",
   "execution_count": null,
   "id": "9d1d5c30-b336-4dad-9aae-89c74aaf730a",
   "metadata": {},
   "outputs": [],
   "source": [
    "Alexnet_model = Alexnet()\n",
    "Alexnet_model.summary()"
   ]
  },
  {
   "cell_type": "code",
   "execution_count": null,
   "id": "72607e5a-7acc-4e07-b959-9055d6f9144c",
   "metadata": {},
   "outputs": [],
   "source": [
    "history = Alexnet_model.fit(X_train, \n",
    "                         y_train, \n",
    "                         batch_size = 16, \n",
    "                         verbose = 1, \n",
    "                         epochs = 50,      \n",
    "                         validation_data=(X_test,y_test),\n",
    "                         shuffle = False\n",
    "                     )"
   ]
  },
  {
   "cell_type": "code",
   "execution_count": null,
   "id": "c8d93b35-eb8a-42b4-81df-8ef198502053",
   "metadata": {},
   "outputs": [],
   "source": []
  }
 ],
 "metadata": {
  "kernelspec": {
   "display_name": "Python 3",
   "language": "python",
   "name": "python3"
  },
  "language_info": {
   "codemirror_mode": {
    "name": "ipython",
    "version": 3
   },
   "file_extension": ".py",
   "mimetype": "text/x-python",
   "name": "python",
   "nbconvert_exporter": "python",
   "pygments_lexer": "ipython3",
   "version": "3.8.10"
  }
 },
 "nbformat": 4,
 "nbformat_minor": 5
}
