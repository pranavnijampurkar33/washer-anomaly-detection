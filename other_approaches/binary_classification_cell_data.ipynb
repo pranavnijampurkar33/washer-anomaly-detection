{
 "cells": [
  {
   "cell_type": "markdown",
   "id": "42df179c-87b4-4800-b85c-c38c08d1a7ee",
   "metadata": {},
   "source": [
    "# https://youtu.be/vF21cC-8G1U\n",
    "# https://youtu.be/Joh3LOaG8Q0\n",
    "\n",
    "\"\"\"\n",
    "Dataset from: https://lhncbc.nlm.nih.gov/publication/pub9932\n",
    "Binary problem:\n",
    "Question is: Is the image uninfected? If yes, probability is close to 1.\n",
    "If no, the probablility is close to 0.\n",
    "This is because we added label 1 to uninfected images. \n",
    "In summary, probability result close to 1 reflects uninfected image\n",
    "and close to 0 reflects parasitized image\n",
    "\"\"\""
   ]
  },
  {
   "cell_type": "code",
   "execution_count": 1,
   "id": "91f9b0ea-3db7-4411-bb47-59174d68c3f3",
   "metadata": {},
   "outputs": [
    {
     "name": "stdout",
     "output_type": "stream",
     "text": [
      "INFO:tensorflow:Enabling eager execution\n",
      "INFO:tensorflow:Enabling v2 tensorshape\n",
      "INFO:tensorflow:Enabling resource variables\n",
      "INFO:tensorflow:Enabling tensor equality\n",
      "INFO:tensorflow:Enabling control flow v2\n"
     ]
    }
   ],
   "source": [
    "##########################################################\n",
    "import matplotlib.pyplot as plt\n",
    "import matplotlib.image as mpimg\n",
    "\n",
    "plt.style.use('classic')\n",
    "#############################################################\n",
    "from keras.preprocessing.image import ImageDataGenerator\n",
    "from keras.models import Sequential\n",
    "from keras.layers import Conv2D, MaxPooling2D, BatchNormalization\n",
    "from keras.layers import Activation, Dropout, Flatten, Dense\n",
    "#from keras import backend as K\n",
    "####################################################\n",
    "import os\n",
    "import cv2\n",
    "from PIL import Image\n",
    "import numpy as np\n",
    "import tensorflow as tf"
   ]
  },
  {
   "cell_type": "code",
   "execution_count": 2,
   "id": "65cb0cd1-7ab4-43b1-9a07-0abdddfedaa1",
   "metadata": {},
   "outputs": [
    {
     "name": "stdout",
     "output_type": "stream",
     "text": [
      "[name: \"/device:CPU:0\"\n",
      "device_type: \"CPU\"\n",
      "memory_limit: 268435456\n",
      "locality {\n",
      "}\n",
      "incarnation: 10599198258948361271\n",
      ", name: \"/device:GPU:0\"\n",
      "device_type: \"GPU\"\n",
      "memory_limit: 6172114944\n",
      "locality {\n",
      "  bus_id: 1\n",
      "  links {\n",
      "  }\n",
      "}\n",
      "incarnation: 5598110483265071367\n",
      "physical_device_desc: \"device: 0, name: GeForce RTX 2070 with Max-Q Design, pci bus id: 0000:01:00.0, compute capability: 7.5\"\n",
      "]\n"
     ]
    },
    {
     "data": {
      "text/plain": [
       "[PhysicalDevice(name='/physical_device:GPU:0', device_type='GPU')]"
      ]
     },
     "execution_count": 2,
     "metadata": {},
     "output_type": "execute_result"
    }
   ],
   "source": [
    "from tensorflow.python.client import device_lib\n",
    "print(device_lib.list_local_devices())\n",
    "tf.config.list_physical_devices('GPU')"
   ]
  },
  {
   "cell_type": "code",
   "execution_count": 3,
   "id": "6eedd2ae-25c1-4d0d-8389-c84001afc38d",
   "metadata": {},
   "outputs": [],
   "source": [
    "image_directory = \"/home/pratham/study/input_data/cell_images/\"\n",
    "SIZE = 150\n",
    "dataset = []  #Many ways to handle data, you can use pandas. Here, we are using a list format.  \n",
    "label = []  #Place holders to define add labels. We will add 0 to all parasitized images and 1 to uninfected.\n",
    "\n",
    "parasitized_images = os.listdir(image_directory + 'Parasitized/')\n",
    "for i, image_name in enumerate(parasitized_images):    #Remember enumerate method adds a counter and returns the enumerate object\n",
    "    \n",
    "    if (image_name.split('.')[1] == 'png'):\n",
    "        image = cv2.imread(image_directory + 'Parasitized/' + image_name)\n",
    "        image = Image.fromarray(image, 'RGB')\n",
    "        image = image.resize((SIZE, SIZE))\n",
    "        dataset.append(np.array(image))\n",
    "        label.append(0)"
   ]
  },
  {
   "cell_type": "code",
   "execution_count": 4,
   "id": "dd4d2514-d495-4e64-897c-db6cff5ae1a0",
   "metadata": {},
   "outputs": [],
   "source": [
    "#Iterate through all images in Uninfected folder, resize to 150 x 150\n",
    "#Then save into the same numpy array 'dataset' but with label 1\n",
    "\n",
    "uninfected_images = os.listdir(image_directory + 'Uninfected/')\n",
    "for i, image_name in enumerate(uninfected_images):\n",
    "    if (image_name.split('.')[1] == 'png'):\n",
    "        image = cv2.imread(image_directory + 'Uninfected/' + image_name)\n",
    "        image = Image.fromarray(image, 'RGB')\n",
    "        image = image.resize((SIZE, SIZE))\n",
    "        dataset.append(np.array(image))\n",
    "        label.append(1)"
   ]
  },
  {
   "cell_type": "code",
   "execution_count": 5,
   "id": "f51679aa-6799-4835-b27a-e4e1d76c1108",
   "metadata": {},
   "outputs": [],
   "source": [
    "dataset = np.array(dataset)\n",
    "label = np.array(label)"
   ]
  },
  {
   "cell_type": "code",
   "execution_count": 6,
   "id": "0d0fb18e-8f97-4215-b20e-3479d6cfe3ee",
   "metadata": {},
   "outputs": [],
   "source": [
    "from sklearn.model_selection import train_test_split\n",
    "X_train, X_test, y_train, y_test = train_test_split(dataset, label, test_size = 0.20, random_state = 0)"
   ]
  },
  {
   "cell_type": "code",
   "execution_count": 7,
   "id": "7effbd25-80f2-409b-86fa-4c6df7d11165",
   "metadata": {},
   "outputs": [],
   "source": [
    "#Without scaling (normalize) the training may not converge. \n",
    "#Normalization is a rescaling of the data from the original range \n",
    "#so that all values are within the range of 0 and 1.\n",
    "from tensorflow.keras.utils import normalize\n",
    "X_train = normalize(X_train, axis=1)\n",
    "X_test = normalize(X_test, axis=1)"
   ]
  },
  {
   "cell_type": "code",
   "execution_count": 11,
   "id": "1f90183d-fe5a-4deb-93f7-55482742ea80",
   "metadata": {},
   "outputs": [
    {
     "name": "stdout",
     "output_type": "stream",
     "text": [
      "Model: \"sequential_1\"\n",
      "_________________________________________________________________\n",
      "Layer (type)                 Output Shape              Param #   \n",
      "=================================================================\n",
      "conv2d_5 (Conv2D)            (None, 148, 148, 32)      896       \n",
      "_________________________________________________________________\n",
      "activation (Activation)      (None, 148, 148, 32)      0         \n",
      "_________________________________________________________________\n",
      "max_pooling2d_3 (MaxPooling2 (None, 74, 74, 32)        0         \n",
      "_________________________________________________________________\n",
      "conv2d_6 (Conv2D)            (None, 72, 72, 32)        9248      \n",
      "_________________________________________________________________\n",
      "activation_1 (Activation)    (None, 72, 72, 32)        0         \n",
      "_________________________________________________________________\n",
      "max_pooling2d_4 (MaxPooling2 (None, 36, 36, 32)        0         \n",
      "_________________________________________________________________\n",
      "conv2d_7 (Conv2D)            (None, 34, 34, 64)        18496     \n",
      "_________________________________________________________________\n",
      "activation_2 (Activation)    (None, 34, 34, 64)        0         \n",
      "_________________________________________________________________\n",
      "max_pooling2d_5 (MaxPooling2 (None, 17, 17, 64)        0         \n",
      "_________________________________________________________________\n",
      "flatten_1 (Flatten)          (None, 18496)             0         \n",
      "_________________________________________________________________\n",
      "dense_3 (Dense)              (None, 64)                1183808   \n",
      "_________________________________________________________________\n",
      "activation_3 (Activation)    (None, 64)                0         \n",
      "_________________________________________________________________\n",
      "dropout_2 (Dropout)          (None, 64)                0         \n",
      "_________________________________________________________________\n",
      "dense_4 (Dense)              (None, 1)                 65        \n",
      "_________________________________________________________________\n",
      "activation_4 (Activation)    (None, 1)                 0         \n",
      "=================================================================\n",
      "Total params: 1,212,513\n",
      "Trainable params: 1,212,513\n",
      "Non-trainable params: 0\n",
      "_________________________________________________________________\n",
      "None\n"
     ]
    }
   ],
   "source": [
    "###2 conv and pool layers. with some normalization and drops in between.\n",
    "\n",
    "INPUT_SHAPE = (SIZE, SIZE, 3)   #change to (SIZE, SIZE, 3)\n",
    "\n",
    "\n",
    "model = Sequential()\n",
    "model.add(Conv2D(32, (3, 3), input_shape=INPUT_SHAPE))\n",
    "model.add(Activation('relu'))\n",
    "model.add(MaxPooling2D(pool_size=(2, 2)))\n",
    "\n",
    "model.add(Conv2D(32, (3, 3), kernel_initializer = 'he_uniform'))\n",
    "model.add(Activation('relu'))\n",
    "model.add(MaxPooling2D(pool_size=(2, 2)))\n",
    "\n",
    "model.add(Conv2D(64, (3, 3), kernel_initializer = 'he_uniform'))\n",
    "model.add(Activation('relu'))\n",
    "model.add(MaxPooling2D(pool_size=(2, 2)))\n",
    "\n",
    "model.add(Flatten())\n",
    "model.add(Dense(64))\n",
    "model.add(Activation('relu'))\n",
    "model.add(Dropout(0.5))\n",
    "\n",
    "model.add(Dense(1))\n",
    "model.add(Activation('sigmoid'))  \n",
    "#Do not use softmax for binary classification\n",
    "#Softmax is useful for mutually exclusive classes, either cat or dog but not both.\n",
    "#Also, softmax outputs all add to 1. So good for multi class problems where each\n",
    "#class is given a probability and all add to 1. Highest one wins. \n",
    "\n",
    "#Sigmoid outputs probability. Can be used for non-mutually exclusive problems.\n",
    "#But, also good for binary mutually exclusive (cat or not cat). \n",
    "\n",
    "model.compile(loss='binary_crossentropy',\n",
    "              optimizer='rmsprop',             #also try adam\n",
    "              metrics=['accuracy'])\n",
    "\n",
    "print(model.summary())    \n",
    "###############################################################  "
   ]
  },
  {
   "cell_type": "code",
   "execution_count": 12,
   "id": "1d4d3680-11b7-456f-a4d7-f7065d282616",
   "metadata": {},
   "outputs": [
    {
     "name": "stdout",
     "output_type": "stream",
     "text": [
      "Epoch 1/10\n",
      "345/345 [==============================] - 31s 82ms/step - loss: 0.6683 - accuracy: 0.5765 - val_loss: 0.2367 - val_accuracy: 0.9488\n",
      "Epoch 2/10\n",
      "345/345 [==============================] - 10s 28ms/step - loss: 0.2331 - accuracy: 0.9335 - val_loss: 0.1802 - val_accuracy: 0.9550\n",
      "Epoch 3/10\n",
      "345/345 [==============================] - 10s 28ms/step - loss: 0.2111 - accuracy: 0.9382 - val_loss: 0.1740 - val_accuracy: 0.9536\n",
      "Epoch 4/10\n",
      "345/345 [==============================] - 10s 28ms/step - loss: 0.1885 - accuracy: 0.9448 - val_loss: 0.2060 - val_accuracy: 0.9443\n",
      "Epoch 5/10\n",
      "345/345 [==============================] - 10s 28ms/step - loss: 0.1704 - accuracy: 0.9509 - val_loss: 0.1613 - val_accuracy: 0.9563\n",
      "Epoch 6/10\n",
      "345/345 [==============================] - 10s 28ms/step - loss: 0.1615 - accuracy: 0.9530 - val_loss: 0.1834 - val_accuracy: 0.9516\n",
      "Epoch 7/10\n",
      "345/345 [==============================] - 10s 28ms/step - loss: 0.1614 - accuracy: 0.9504 - val_loss: 0.2002 - val_accuracy: 0.9528\n",
      "Epoch 8/10\n",
      "345/345 [==============================] - 10s 28ms/step - loss: 0.1575 - accuracy: 0.9519 - val_loss: 0.1637 - val_accuracy: 0.9532\n",
      "Epoch 9/10\n",
      "345/345 [==============================] - 10s 28ms/step - loss: 0.1570 - accuracy: 0.9526 - val_loss: 0.1428 - val_accuracy: 0.9583\n",
      "Epoch 10/10\n",
      "345/345 [==============================] - 10s 28ms/step - loss: 0.1596 - accuracy: 0.9499 - val_loss: 0.1634 - val_accuracy: 0.9525\n"
     ]
    }
   ],
   "source": [
    "history = model.fit(X_train, \n",
    "                         y_train, \n",
    "                         batch_size = 64, \n",
    "                         verbose = 1, \n",
    "                         epochs = 10,      \n",
    "                         validation_data=(X_test,y_test),\n",
    "                         shuffle = False\n",
    "                     )"
   ]
  },
  {
   "cell_type": "code",
   "execution_count": 8,
   "id": "ed28b4ff-1188-4190-a905-3d036299af10",
   "metadata": {},
   "outputs": [],
   "source": [
    "def Alexnet():\n",
    "    INPUT_SHAPE = (SIZE, SIZE, 3)   #change to (SIZE, SIZE, 3)\n",
    "    # Initialize the model\n",
    "    model = Sequential()\n",
    "\n",
    "    # layer 1: convolutional layer + max-pooling layer\n",
    "    model.add(Conv2D(filters = 96, kernel_size = (11,11), strides= 4, padding = 'valid', activation='relu', input_shape = INPUT_SHAPE))\n",
    "    model.add(MaxPooling2D(pool_size = (3,3), strides = 2))\n",
    "\n",
    "    # layer 2: convolutional layer + max-pooling layer \n",
    "    model.add(Conv2D(filters = 256, kernel_size = (5,5), padding = 'same', activation = 'relu'))\n",
    "    model.add(MaxPooling2D(pool_size = (3,3), strides = 2))\n",
    "\n",
    "    # layers 3-5: three convolutional layers + 1 max-pooling layer\n",
    "    model.add(Conv2D(filters = 384, kernel_size = (3,3), padding = 'same', activation = 'relu'))\n",
    "    model.add(Conv2D(filters = 384, kernel_size = (3,3), padding = 'same', activation = 'relu'))\n",
    "    model.add(Conv2D(filters = 256, kernel_size = (3,3), padding = 'same', activation = 'relu'))\n",
    "    model.add(MaxPooling2D(pool_size = (3,3), strides = 2))\n",
    "\n",
    "    # layers 6 - 8: two fully connected hidden layers and one fully connected output layer\n",
    "    model.add(Flatten())\n",
    "    model.add(Dense(4096, activation = 'relu'))\n",
    "    model.add(Dropout(0.5))\n",
    "    model.add(Dense(4096, activation = 'relu'))\n",
    "    model.add(Dropout(0.5))\n",
    "    model.add(Dense(1, activation = 'sigmoid'))\n",
    "\n",
    "    # compile the model with a loss funciton, a metric and and optimizer method for estimating the loss function\n",
    "    \n",
    "    model.compile(loss='binary_crossentropy',\n",
    "              optimizer='rmsprop',             #also try adam\n",
    "              metrics=['accuracy'])\n",
    "\n",
    "    return model"
   ]
  },
  {
   "cell_type": "code",
   "execution_count": 9,
   "id": "9d1d5c30-b336-4dad-9aae-89c74aaf730a",
   "metadata": {},
   "outputs": [
    {
     "name": "stdout",
     "output_type": "stream",
     "text": [
      "Model: \"sequential\"\n",
      "_________________________________________________________________\n",
      "Layer (type)                 Output Shape              Param #   \n",
      "=================================================================\n",
      "conv2d (Conv2D)              (None, 35, 35, 96)        34944     \n",
      "_________________________________________________________________\n",
      "max_pooling2d (MaxPooling2D) (None, 17, 17, 96)        0         \n",
      "_________________________________________________________________\n",
      "conv2d_1 (Conv2D)            (None, 17, 17, 256)       614656    \n",
      "_________________________________________________________________\n",
      "max_pooling2d_1 (MaxPooling2 (None, 8, 8, 256)         0         \n",
      "_________________________________________________________________\n",
      "conv2d_2 (Conv2D)            (None, 8, 8, 384)         885120    \n",
      "_________________________________________________________________\n",
      "conv2d_3 (Conv2D)            (None, 8, 8, 384)         1327488   \n",
      "_________________________________________________________________\n",
      "conv2d_4 (Conv2D)            (None, 8, 8, 256)         884992    \n",
      "_________________________________________________________________\n",
      "max_pooling2d_2 (MaxPooling2 (None, 3, 3, 256)         0         \n",
      "_________________________________________________________________\n",
      "flatten (Flatten)            (None, 2304)              0         \n",
      "_________________________________________________________________\n",
      "dense (Dense)                (None, 4096)              9441280   \n",
      "_________________________________________________________________\n",
      "dropout (Dropout)            (None, 4096)              0         \n",
      "_________________________________________________________________\n",
      "dense_1 (Dense)              (None, 4096)              16781312  \n",
      "_________________________________________________________________\n",
      "dropout_1 (Dropout)          (None, 4096)              0         \n",
      "_________________________________________________________________\n",
      "dense_2 (Dense)              (None, 1)                 4097      \n",
      "=================================================================\n",
      "Total params: 29,973,889\n",
      "Trainable params: 29,973,889\n",
      "Non-trainable params: 0\n",
      "_________________________________________________________________\n"
     ]
    }
   ],
   "source": [
    "Alexnet_model = Alexnet()\n",
    "Alexnet_model.summary()"
   ]
  },
  {
   "cell_type": "code",
   "execution_count": 10,
   "id": "72607e5a-7acc-4e07-b959-9055d6f9144c",
   "metadata": {},
   "outputs": [
    {
     "name": "stdout",
     "output_type": "stream",
     "text": [
      "Epoch 1/10\n",
      "345/345 [==============================] - 45s 89ms/step - loss: 4.5459 - accuracy: 0.4993 - val_loss: 0.6930 - val_accuracy: 0.5096\n",
      "Epoch 2/10\n",
      "345/345 [==============================] - 12s 35ms/step - loss: 0.7060 - accuracy: 0.5000 - val_loss: 0.6931 - val_accuracy: 0.5096\n",
      "Epoch 3/10\n",
      "345/345 [==============================] - 12s 36ms/step - loss: 0.7131 - accuracy: 0.5127 - val_loss: 0.6804 - val_accuracy: 0.4904\n",
      "Epoch 4/10\n",
      "345/345 [==============================] - 12s 36ms/step - loss: 0.6044 - accuracy: 0.7416 - val_loss: 0.2408 - val_accuracy: 0.9441\n",
      "Epoch 5/10\n",
      "345/345 [==============================] - 12s 36ms/step - loss: 0.2006 - accuracy: 0.9321 - val_loss: 0.1624 - val_accuracy: 0.9537\n",
      "Epoch 6/10\n",
      "345/345 [==============================] - 12s 36ms/step - loss: 0.1796 - accuracy: 0.9394 - val_loss: 0.1611 - val_accuracy: 0.9570\n",
      "Epoch 7/10\n",
      "345/345 [==============================] - 12s 36ms/step - loss: 0.1693 - accuracy: 0.9470 - val_loss: 0.1900 - val_accuracy: 0.9479\n",
      "Epoch 8/10\n",
      "345/345 [==============================] - 12s 36ms/step - loss: 0.1612 - accuracy: 0.9470 - val_loss: 0.2383 - val_accuracy: 0.9191\n",
      "Epoch 9/10\n",
      "345/345 [==============================] - 12s 36ms/step - loss: 0.1587 - accuracy: 0.9501 - val_loss: 0.1941 - val_accuracy: 0.9467\n",
      "Epoch 10/10\n",
      "345/345 [==============================] - 12s 36ms/step - loss: 0.1645 - accuracy: 0.9476 - val_loss: 0.1793 - val_accuracy: 0.9546\n"
     ]
    }
   ],
   "source": [
    "history = Alexnet_model.fit(X_train, \n",
    "                         y_train, \n",
    "                         batch_size = 64, \n",
    "                         verbose = 1, \n",
    "                         epochs = 10,      \n",
    "                         validation_data=(X_test,y_test),\n",
    "                         shuffle = False\n",
    "                     )"
   ]
  },
  {
   "cell_type": "code",
   "execution_count": null,
   "id": "c8d93b35-eb8a-42b4-81df-8ef198502053",
   "metadata": {},
   "outputs": [],
   "source": []
  }
 ],
 "metadata": {
  "kernelspec": {
   "display_name": "Python 3",
   "language": "python",
   "name": "python3"
  },
  "language_info": {
   "codemirror_mode": {
    "name": "ipython",
    "version": 3
   },
   "file_extension": ".py",
   "mimetype": "text/x-python",
   "name": "python",
   "nbconvert_exporter": "python",
   "pygments_lexer": "ipython3",
   "version": "3.8.10"
  }
 },
 "nbformat": 4,
 "nbformat_minor": 5
}
