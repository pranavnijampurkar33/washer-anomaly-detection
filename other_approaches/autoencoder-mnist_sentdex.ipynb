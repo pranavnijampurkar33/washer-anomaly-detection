{
 "cells": [
  {
   "cell_type": "code",
   "execution_count": null,
   "id": "5f5e9d2b-9df9-4fb3-91bb-795d46e8eca1",
   "metadata": {},
   "outputs": [],
   "source": [
    "import tensorflow as tf  \n",
    "from tensorflow import keras\n",
    "import cv2\n",
    "import numpy as np\n",
    "import matplotlib.pyplot as plt\n",
    "from tensorflow.python.client import device_lib\n",
    "print(device_lib.list_local_devices())\n",
    "tf.config.list_physical_devices('GPU')"
   ]
  },
  {
   "cell_type": "code",
   "execution_count": null,
   "id": "0bef04d0-b2ae-4172-8698-4d221fb51ff5",
   "metadata": {},
   "outputs": [],
   "source": [
    "(x_train, y_train),(x_test, y_test) = tf.keras.datasets.mnist.load_data()  # loads the popular \"mnist\" training dataset\n",
    "\n",
    "x_train = x_train/255.0  # scales the data. pixel values range from 0 to 255, so this makes it range 0 to 1\n",
    "x_test = x_test/255.0  # scales the data. pixel values range from 0 to 255, so this makes it range 0 to 1"
   ]
  },
  {
   "cell_type": "code",
   "execution_count": 48,
   "id": "0c5315a0-8a74-462b-aa52-794714f306e9",
   "metadata": {},
   "outputs": [
    {
     "data": {
      "text/plain": [
       "<matplotlib.image.AxesImage at 0x7f81312b56d0>"
      ]
     },
     "execution_count": 48,
     "metadata": {},
     "output_type": "execute_result"
    },
    {
     "data": {
      "image/png": "[encoded data removed]",
      "text/plain": [
       "<Figure size 432x288 with 1 Axes>"
      ]
     },
     "metadata": {
      "needs_background": "light"
     },
     "output_type": "display_data"
    }
   ],
   "source": [
    "plt.imshow(x_train[0], cmap=\"gray\")"
   ]
  },
  {
   "cell_type": "code",
   "execution_count": 49,
   "id": "e7e4d7a1-3a4e-47d9-b2f4-37025564426e",
   "metadata": {},
   "outputs": [
    {
     "data": {
      "text/plain": [
       "<matplotlib.image.AxesImage at 0x7f8130979fd0>"
      ]
     },
     "execution_count": 49,
     "metadata": {},
     "output_type": "execute_result"
    },
    {
     "data": {
      "image/png": "[encoded data removed]",
      "text/plain": [
       "<Figure size 432x288 with 1 Axes>"
      ]
     },
     "metadata": {
      "needs_background": "light"
     },
     "output_type": "display_data"
    }
   ],
   "source": [
    "plt.imshow(x_train[1], cmap=\"gray\")"
   ]
  },
  {
   "cell_type": "code",
   "execution_count": 50,
   "id": "4be92d3f-0c6b-4906-bb9f-9ae1bf1bf9a7",
   "metadata": {},
   "outputs": [
    {
     "data": {
      "text/plain": [
       "(28, 28)"
      ]
     },
     "execution_count": 50,
     "metadata": {},
     "output_type": "execute_result"
    }
   ],
   "source": [
    "x_train[0].shape"
   ]
  },
  {
   "cell_type": "code",
   "execution_count": 16,
   "id": "cd7825f2-3234-4e0d-af7a-04e7af13ab9b",
   "metadata": {},
   "outputs": [
    {
     "name": "stdout",
     "output_type": "stream",
     "text": [
      "Model: \"autoencoder\"\n",
      "_________________________________________________________________\n",
      "Layer (type)                 Output Shape              Param #   \n",
      "=================================================================\n",
      "img (InputLayer)             [(None, 28, 28, 1)]       0         \n",
      "_________________________________________________________________\n",
      "flatten_3 (Flatten)          (None, 784)               0         \n",
      "_________________________________________________________________\n",
      "dense_6 (Dense)              (None, 64)                50240     \n",
      "_________________________________________________________________\n",
      "dense_7 (Dense)              (None, 784)               50960     \n",
      "_________________________________________________________________\n",
      "reshape_1 (Reshape)          (None, 28, 28, 1)         0         \n",
      "=================================================================\n",
      "Total params: 101,200\n",
      "Trainable params: 101,200\n",
      "Non-trainable params: 0\n",
      "_________________________________________________________________\n"
     ]
    }
   ],
   "source": [
    "encoder_input = keras.Input(shape=(28, 28, 1), name = 'img')\n",
    "x = keras.layers.Flatten()(encoder_input)　　　# Here we are flattening to 784\n",
    "encoder_output = keras.layers.Dense(64, activation='relu')(x)\n",
    "\n",
    "encoder = keras.Model(encoder_input, encoder_output, name = 'encoder')\n",
    "\n",
    "decoder_input = keras.layers.Dense(784, activation='relu')(encoder_output)\n",
    "decoder_output = keras.layers.Reshape((28, 28, 1))(decoder_input)\n",
    "\n",
    "opt = keras.optimizers.Adam(learning_rate= 0.001, decay = 1e-6)\n",
    "\n",
    "autoencoder = keras.Model(encoder_input, decoder_output, name = 'autoencoder')\n",
    "autoencoder.summary()\n",
    "autoencoder.compile(opt, loss = \"mse\")"
   ]
  },
  {
   "cell_type": "code",
   "execution_count": 18,
   "id": "124a1845-ab92-42f4-9876-134272556796",
   "metadata": {},
   "outputs": [
    {
     "name": "stdout",
     "output_type": "stream",
     "text": [
      "Epoch 1/3\n",
      "1688/1688 [==============================] - 3s 1ms/step - loss: 0.0285 - val_loss: 0.0121\n",
      "Epoch 2/3\n",
      "1688/1688 [==============================] - 2s 922us/step - loss: 0.0118 - val_loss: 0.0115\n",
      "Epoch 3/3\n",
      "1688/1688 [==============================] - 1s 875us/step - loss: 0.0113 - val_loss: 0.0111\n"
     ]
    },
    {
     "data": {
      "text/plain": [
       "<tensorflow.python.keras.callbacks.History at 0x7f7f1b8b9ca0>"
      ]
     },
     "execution_count": 18,
     "metadata": {},
     "output_type": "execute_result"
    }
   ],
   "source": [
    "autoencoder.fit(x_train, x_train,epochs = 3, batch_size = 32, validation_split=0.1)"
   ]
  },
  {
   "cell_type": "code",
   "execution_count": 19,
   "id": "fb19323d-9be0-42a2-8560-e4c988bffab4",
   "metadata": {},
   "outputs": [
    {
     "name": "stdout",
     "output_type": "stream",
     "text": [
      "[2.203375   0.36527053 0.         1.4733222  0.54362035 1.1015224\n",
      " 1.1005695  1.4060476  0.20628417 1.7814513  0.419723   0.45870817\n",
      " 1.2243696  0.63999826 0.39011097 1.0532317  1.6676443  1.0981337\n",
      " 0.6223765  0.9855244  2.0970025  0.         0.68458897 0.49277562\n",
      " 0.91789615 0.5190428  0.32612276 0.25465462 2.4122944  1.9667401\n",
      " 0.42930007 0.         0.4296584  3.2692902  0.8560264  0.34731123\n",
      " 0.         0.         0.92166203 1.8624287  0.863165   1.5334841\n",
      " 0.         0.8307968  0.23249012 0.6387175  1.0156462  1.032423\n",
      " 0.7880706  0.5772455  1.6638511  0.8921094  0.17949916 0.9017093\n",
      " 2.869261   1.002589   1.4261937  0.         0.6758721  0.31531623\n",
      " 1.4838654  2.0690913  0.1705521  0.5781714 ]\n"
     ]
    }
   ],
   "source": [
    "example = encoder.predict([x_test[0].reshape(-1, 28, 28, 1)])[0]\n",
    "print(example)"
   ]
  },
  {
   "cell_type": "code",
   "execution_count": 31,
   "id": "a99b326f-ea52-492e-ba5a-5643d844b1b4",
   "metadata": {},
   "outputs": [
    {
     "data": {
      "text/plain": [
       "<matplotlib.image.AxesImage at 0x7f81316826d0>"
      ]
     },
     "execution_count": 31,
     "metadata": {},
     "output_type": "execute_result"
    },
    {
     "data": {
      "image/png": "[encoded data removed]",
      "text/plain": [
       "<Figure size 432x288 with 1 Axes>"
      ]
     },
     "metadata": {
      "needs_background": "light"
     },
     "output_type": "display_data"
    }
   ],
   "source": [
    "plt.imshow(example.reshape((8,8)), cmap='gray')"
   ]
  },
  {
   "cell_type": "code",
   "execution_count": 26,
   "id": "1879ebbc-3cad-424f-aa29-db4974cd8ea6",
   "metadata": {},
   "outputs": [
    {
     "data": {
      "text/plain": [
       "<matplotlib.image.AxesImage at 0x7f81d90bc460>"
      ]
     },
     "execution_count": 26,
     "metadata": {},
     "output_type": "execute_result"
    },
    {
     "data": {
      "image/png": "[encoded data removed]",
      "text/plain": [
       "<Figure size 432x288 with 1 Axes>"
      ]
     },
     "metadata": {
      "needs_background": "light"
     },
     "output_type": "display_data"
    }
   ],
   "source": [
    "plt.imshow(x_test[0], cmap='gray')"
   ]
  },
  {
   "cell_type": "code",
   "execution_count": 27,
   "id": "f6f889ce-1fb3-4457-ae8d-8d31e8d5b98d",
   "metadata": {},
   "outputs": [],
   "source": [
    "ae_out = autoencoder.predict([x_test[0].reshape(-1, 28, 28, 1)])[0]"
   ]
  },
  {
   "cell_type": "code",
   "execution_count": 28,
   "id": "30dcb688-5369-4935-bec4-2927564f0c65",
   "metadata": {},
   "outputs": [
    {
     "data": {
      "text/plain": [
       "<matplotlib.image.AxesImage at 0x7f81d90a1610>"
      ]
     },
     "execution_count": 28,
     "metadata": {},
     "output_type": "execute_result"
    },
    {
     "data": {
      "image/png": "[encoded data removed]",
      "text/plain": [
       "<Figure size 432x288 with 1 Axes>"
      ]
     },
     "metadata": {
      "needs_background": "light"
     },
     "output_type": "display_data"
    }
   ],
   "source": [
    "plt.imshow(ae_out, cmap= 'gray')"
   ]
  },
  {
   "cell_type": "code",
   "execution_count": 34,
   "id": "dfc5bf06-2b79-460a-8d41-c09a3614ea14",
   "metadata": {},
   "outputs": [
    {
     "data": {
      "text/plain": [
       "<matplotlib.image.AxesImage at 0x7f8131292370>"
      ]
     },
     "execution_count": 34,
     "metadata": {},
     "output_type": "execute_result"
    },
    {
     "data": {
      "image/png": "[encoded data removed]",
      "text/plain": [
       "<Figure size 432x288 with 1 Axes>"
      ]
     },
     "metadata": {
      "needs_background": "light"
     },
     "output_type": "display_data"
    }
   ],
   "source": [
    "plt.imshow(x_test[1], cmap='gray')"
   ]
  },
  {
   "cell_type": "code",
   "execution_count": 35,
   "id": "a741611e-2581-48d0-b3c3-4573a5e486c9",
   "metadata": {},
   "outputs": [
    {
     "data": {
      "text/plain": [
       "<matplotlib.image.AxesImage at 0x7f81311695e0>"
      ]
     },
     "execution_count": 35,
     "metadata": {},
     "output_type": "execute_result"
    },
    {
     "data": {
      "image/png": "[encoded data removed]",
      "text/plain": [
       "<Figure size 432x288 with 1 Axes>"
      ]
     },
     "metadata": {
      "needs_background": "light"
     },
     "output_type": "display_data"
    }
   ],
   "source": [
    "ae_out = autoencoder.predict([x_test[1].reshape(-1, 28, 28, 1)])[0]\n",
    "plt.imshow(ae_out, cmap= 'gray')"
   ]
  },
  {
   "cell_type": "code",
   "execution_count": 36,
   "id": "3a092cb6-ba02-4b21-ab8e-8a2ae78c15c5",
   "metadata": {},
   "outputs": [
    {
     "data": {
      "text/plain": [
       "<matplotlib.image.AxesImage at 0x7f8131167c40>"
      ]
     },
     "execution_count": 36,
     "metadata": {},
     "output_type": "execute_result"
    },
    {
     "data": {
      "image/png": "[encoded data removed]",
      "text/plain": [
       "<Figure size 432x288 with 1 Axes>"
      ]
     },
     "metadata": {
      "needs_background": "light"
     },
     "output_type": "display_data"
    }
   ],
   "source": [
    "plt.imshow(x_test[3], cmap='gray')"
   ]
  },
  {
   "cell_type": "code",
   "execution_count": 37,
   "id": "0f36cf84-767d-4dfc-96cd-790ff574ecc6",
   "metadata": {},
   "outputs": [
    {
     "data": {
      "text/plain": [
       "<matplotlib.image.AxesImage at 0x7f8131403160>"
      ]
     },
     "execution_count": 37,
     "metadata": {},
     "output_type": "execute_result"
    },
    {
     "data": {
      "image/png": "[encoded data removed]",
      "text/plain": [
       "<Figure size 432x288 with 1 Axes>"
      ]
     },
     "metadata": {
      "needs_background": "light"
     },
     "output_type": "display_data"
    }
   ],
   "source": [
    "ae_out = autoencoder.predict([x_test[3].reshape(-1, 28, 28, 1)])[0]\n",
    "plt.imshow(ae_out, cmap= 'gray')"
   ]
  },
  {
   "cell_type": "markdown",
   "id": "429e9686-3dbd-417b-9b54-4b17586463ae",
   "metadata": {},
   "source": [
    "## Adding Noise and trying to remove in the decoder"
   ]
  },
  {
   "cell_type": "code",
   "execution_count": 41,
   "id": "c3ce5bfe-fa99-472b-abfe-7221e416982d",
   "metadata": {},
   "outputs": [],
   "source": [
    "import random\n",
    "def add_noise(img, random_chance=5):\n",
    "    noisy = []\n",
    "    for row in img:\n",
    "        new_row = []\n",
    "        for pix in row :\n",
    "            if random.choice(range(100)) <= random_chance:\n",
    "                new_val = random.uniform(0, 1)\n",
    "                new_row.append(new_val)\n",
    "            else:\n",
    "                new_row.append(pix)\n",
    "        noisy.append(new_row)\n",
    "    return np.array(noisy)"
   ]
  },
  {
   "cell_type": "code",
   "execution_count": 42,
   "id": "3005c66b-3840-4a81-854d-9ccf24f101ee",
   "metadata": {},
   "outputs": [
    {
     "data": {
      "text/plain": [
       "<matplotlib.image.AxesImage at 0x7f81309ecbb0>"
      ]
     },
     "execution_count": 42,
     "metadata": {},
     "output_type": "execute_result"
    },
    {
     "data": {
      "image/png": "[encoded data removed]",
      "text/plain": [
       "<Figure size 432x288 with 1 Axes>"
      ]
     },
     "metadata": {
      "needs_background": "light"
     },
     "output_type": "display_data"
    }
   ],
   "source": [
    "noisy = add_noise(x_test[0])\n",
    "plt.imshow(noisy, cmap=\"gray\")"
   ]
  },
  {
   "cell_type": "code",
   "execution_count": 43,
   "id": "ed1144b9-284b-498b-bfae-78e1f128862b",
   "metadata": {},
   "outputs": [
    {
     "data": {
      "text/plain": [
       "<matplotlib.image.AxesImage at 0x7f81313a6d30>"
      ]
     },
     "execution_count": 43,
     "metadata": {},
     "output_type": "execute_result"
    },
    {
     "data": {
      "image/png": "[encoded data removed]",
      "text/plain": [
       "<Figure size 432x288 with 1 Axes>"
      ]
     },
     "metadata": {
      "needs_background": "light"
     },
     "output_type": "display_data"
    }
   ],
   "source": [
    "ae_out = autoencoder.predict(noisy.reshape(-1, 28, 28, 1))[0]\n",
    "plt.imshow(ae_out, cmap='gray')"
   ]
  },
  {
   "cell_type": "markdown",
   "id": "02f8332a-189c-427e-b08f-e7f103840607",
   "metadata": {},
   "source": [
    "# OPENCV compression using Resize"
   ]
  },
  {
   "cell_type": "code",
   "execution_count": 44,
   "id": "5917f9cc-b555-4a26-b8c1-5bf043302ecd",
   "metadata": {},
   "outputs": [
    {
     "data": {
      "text/plain": [
       "<matplotlib.image.AxesImage at 0x7f8130bfd9d0>"
      ]
     },
     "execution_count": 44,
     "metadata": {},
     "output_type": "execute_result"
    },
    {
     "data": {
      "image/png": "[encoded data removed]",
      "text/plain": [
       "<Figure size 432x288 with 1 Axes>"
      ]
     },
     "metadata": {
      "needs_background": "light"
     },
     "output_type": "display_data"
    }
   ],
   "source": [
    "smaller = cv2.resize(x_test[0], (8,8))\n",
    "back_to_original = cv2.resize(smaller, (28,28))\n",
    "plt.imshow(smaller, cmap=\"gray\")"
   ]
  },
  {
   "cell_type": "code",
   "execution_count": 45,
   "id": "e0236f46-a0a4-468f-ae79-0b7817039b19",
   "metadata": {},
   "outputs": [
    {
     "data": {
      "text/plain": [
       "<matplotlib.image.AxesImage at 0x7f81312fd6d0>"
      ]
     },
     "execution_count": 45,
     "metadata": {},
     "output_type": "execute_result"
    },
    {
     "data": {
      "image/png": "[encoded data removed]",
      "text/plain": [
       "<Figure size 432x288 with 1 Axes>"
      ]
     },
     "metadata": {
      "needs_background": "light"
     },
     "output_type": "display_data"
    }
   ],
   "source": [
    "plt.imshow(back_to_original, cmap=\"gray\")"
   ]
  },
  {
   "cell_type": "code",
   "execution_count": 4,
   "id": "022a6140-def0-4e68-ab41-2c89b1cac0a6",
   "metadata": {},
   "outputs": [
    {
     "data": {
      "text/plain": [
       "0.08163265306122448"
      ]
     },
     "execution_count": 4,
     "metadata": {},
     "output_type": "execute_result"
    }
   ],
   "source": [
    "64 /(28*28)"
   ]
  },
  {
   "cell_type": "code",
   "execution_count": null,
   "id": "6cbf5ebb-00aa-4a93-a545-ca4923c5e97e",
   "metadata": {},
   "outputs": [],
   "source": []
  }
 ],
 "metadata": {
  "kernelspec": {
   "display_name": "Python 3",
   "language": "python",
   "name": "python3"
  },
  "language_info": {
   "codemirror_mode": {
    "name": "ipython",
    "version": 3
   },
   "file_extension": ".py",
   "mimetype": "text/x-python",
   "name": "python",
   "nbconvert_exporter": "python",
   "pygments_lexer": "ipython3",
   "version": "3.8.10"
  }
 },
 "nbformat": 4,
 "nbformat_minor": 5
}
